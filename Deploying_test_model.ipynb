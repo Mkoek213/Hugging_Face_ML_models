{
 "cells": [
  {
   "cell_type": "code",
   "execution_count": 1,
   "id": "a996db89",
   "metadata": {},
   "outputs": [
    {
     "name": "stdout",
     "output_type": "stream",
     "text": [
      "Defaulting to user installation because normal site-packages is not writeable\n",
      "Requirement already satisfied: transformers in /home/mikolaj/.local/lib/python3.9/site-packages (4.41.1)\n",
      "Requirement already satisfied: filelock in /home/mikolaj/.local/lib/python3.9/site-packages (from transformers) (3.14.0)\n",
      "Requirement already satisfied: huggingface-hub<1.0,>=0.23.0 in /home/mikolaj/.local/lib/python3.9/site-packages (from transformers) (0.23.1)\n",
      "Requirement already satisfied: numpy>=1.17 in /home/mikolaj/.local/lib/python3.9/site-packages (from transformers) (1.26.4)\n",
      "Requirement already satisfied: packaging>=20.0 in /home/mikolaj/.local/lib/python3.9/site-packages (from transformers) (24.0)\n",
      "Requirement already satisfied: pyyaml>=5.1 in /usr/lib/python3/dist-packages (from transformers) (5.4.1)\n",
      "Requirement already satisfied: regex!=2019.12.17 in /home/mikolaj/.local/lib/python3.9/site-packages (from transformers) (2024.5.15)\n",
      "Requirement already satisfied: requests in /home/mikolaj/.local/lib/python3.9/site-packages (from transformers) (2.32.2)\n",
      "Requirement already satisfied: tokenizers<0.20,>=0.19 in /home/mikolaj/.local/lib/python3.9/site-packages (from transformers) (0.19.1)\n",
      "Requirement already satisfied: safetensors>=0.4.1 in /home/mikolaj/.local/lib/python3.9/site-packages (from transformers) (0.4.3)\n",
      "Requirement already satisfied: tqdm>=4.27 in /home/mikolaj/.local/lib/python3.9/site-packages (from transformers) (4.66.4)\n",
      "Requirement already satisfied: fsspec>=2023.5.0 in /home/mikolaj/.local/lib/python3.9/site-packages (from huggingface-hub<1.0,>=0.23.0->transformers) (2024.5.0)\n",
      "Requirement already satisfied: typing-extensions>=3.7.4.3 in /home/mikolaj/.local/lib/python3.9/site-packages (from huggingface-hub<1.0,>=0.23.0->transformers) (4.12.0)\n",
      "Requirement already satisfied: charset-normalizer<4,>=2 in /home/mikolaj/.local/lib/python3.9/site-packages (from requests->transformers) (3.3.2)\n",
      "Requirement already satisfied: idna<4,>=2.5 in /usr/lib/python3/dist-packages (from requests->transformers) (3.3)\n",
      "Requirement already satisfied: urllib3<3,>=1.21.1 in /home/mikolaj/.local/lib/python3.9/site-packages (from requests->transformers) (2.2.1)\n",
      "Requirement already satisfied: certifi>=2017.4.17 in /usr/lib/python3/dist-packages (from requests->transformers) (2020.6.20)\n",
      "Defaulting to user installation because normal site-packages is not writeable\n",
      "Requirement already satisfied: gradio in /home/mikolaj/.local/lib/python3.9/site-packages (4.31.5)\n",
      "Requirement already satisfied: aiofiles<24.0,>=22.0 in /home/mikolaj/.local/lib/python3.9/site-packages (from gradio) (23.2.1)\n",
      "Requirement already satisfied: altair<6.0,>=4.2.0 in /home/mikolaj/.local/lib/python3.9/site-packages (from gradio) (5.3.0)\n",
      "Requirement already satisfied: fastapi in /home/mikolaj/.local/lib/python3.9/site-packages (from gradio) (0.111.0)\n",
      "Requirement already satisfied: ffmpy in /home/mikolaj/.local/lib/python3.9/site-packages (from gradio) (0.3.2)\n",
      "Requirement already satisfied: gradio-client==0.16.4 in /home/mikolaj/.local/lib/python3.9/site-packages (from gradio) (0.16.4)\n",
      "Requirement already satisfied: httpx>=0.24.1 in /home/mikolaj/.local/lib/python3.9/site-packages (from gradio) (0.27.0)\n",
      "Requirement already satisfied: huggingface-hub>=0.19.3 in /home/mikolaj/.local/lib/python3.9/site-packages (from gradio) (0.23.1)\n",
      "Requirement already satisfied: importlib-resources<7.0,>=1.3 in /home/mikolaj/.local/lib/python3.9/site-packages (from gradio) (6.4.0)\n",
      "Requirement already satisfied: jinja2<4.0 in /home/mikolaj/.local/lib/python3.9/site-packages (from gradio) (3.1.4)\n",
      "Requirement already satisfied: markupsafe~=2.0 in /usr/lib/python3/dist-packages (from gradio) (2.0.1)\n",
      "Requirement already satisfied: matplotlib~=3.0 in /home/mikolaj/.local/lib/python3.9/site-packages (from gradio) (3.9.0)\n",
      "Requirement already satisfied: numpy~=1.0 in /home/mikolaj/.local/lib/python3.9/site-packages (from gradio) (1.26.4)\n",
      "Requirement already satisfied: orjson~=3.0 in /home/mikolaj/.local/lib/python3.9/site-packages (from gradio) (3.10.3)\n",
      "Requirement already satisfied: packaging in /home/mikolaj/.local/lib/python3.9/site-packages (from gradio) (24.0)\n",
      "Requirement already satisfied: pandas<3.0,>=1.0 in /home/mikolaj/.local/lib/python3.9/site-packages (from gradio) (2.2.2)\n",
      "Requirement already satisfied: pillow<11.0,>=8.0 in /usr/lib/python3/dist-packages (from gradio) (9.0.1)\n",
      "Requirement already satisfied: pydantic>=2.0 in /home/mikolaj/.local/lib/python3.9/site-packages (from gradio) (2.7.1)\n",
      "Requirement already satisfied: pydub in /home/mikolaj/.local/lib/python3.9/site-packages (from gradio) (0.25.1)\n",
      "Requirement already satisfied: python-multipart>=0.0.9 in /home/mikolaj/.local/lib/python3.9/site-packages (from gradio) (0.0.9)\n",
      "Requirement already satisfied: pyyaml<7.0,>=5.0 in /usr/lib/python3/dist-packages (from gradio) (5.4.1)\n",
      "Requirement already satisfied: ruff>=0.2.2 in /home/mikolaj/.local/lib/python3.9/site-packages (from gradio) (0.4.5)\n",
      "Requirement already satisfied: semantic-version~=2.0 in /home/mikolaj/.local/lib/python3.9/site-packages (from gradio) (2.10.0)\n",
      "Requirement already satisfied: tomlkit==0.12.0 in /home/mikolaj/.local/lib/python3.9/site-packages (from gradio) (0.12.0)\n",
      "Requirement already satisfied: typer<1.0,>=0.12 in /home/mikolaj/.local/lib/python3.9/site-packages (from gradio) (0.12.3)\n",
      "Requirement already satisfied: typing-extensions~=4.0 in /home/mikolaj/.local/lib/python3.9/site-packages (from gradio) (4.12.0)\n",
      "Requirement already satisfied: urllib3~=2.0 in /home/mikolaj/.local/lib/python3.9/site-packages (from gradio) (2.2.1)\n",
      "Requirement already satisfied: uvicorn>=0.14.0 in /home/mikolaj/.local/lib/python3.9/site-packages (from gradio) (0.29.0)\n",
      "Requirement already satisfied: fsspec in /home/mikolaj/.local/lib/python3.9/site-packages (from gradio-client==0.16.4->gradio) (2024.5.0)\n",
      "Requirement already satisfied: websockets<12.0,>=10.0 in /home/mikolaj/.local/lib/python3.9/site-packages (from gradio-client==0.16.4->gradio) (11.0.3)\n",
      "Requirement already satisfied: jsonschema>=3.0 in /home/mikolaj/.local/lib/python3.9/site-packages (from altair<6.0,>=4.2.0->gradio) (4.22.0)\n",
      "Requirement already satisfied: toolz in /home/mikolaj/.local/lib/python3.9/site-packages (from altair<6.0,>=4.2.0->gradio) (0.12.1)\n",
      "Requirement already satisfied: anyio in /home/mikolaj/.local/lib/python3.9/site-packages (from httpx>=0.24.1->gradio) (4.3.0)\n",
      "Requirement already satisfied: certifi in /usr/lib/python3/dist-packages (from httpx>=0.24.1->gradio) (2020.6.20)\n",
      "Requirement already satisfied: httpcore==1.* in /home/mikolaj/.local/lib/python3.9/site-packages (from httpx>=0.24.1->gradio) (1.0.5)\n",
      "Requirement already satisfied: idna in /usr/lib/python3/dist-packages (from httpx>=0.24.1->gradio) (3.3)\n",
      "Requirement already satisfied: sniffio in /home/mikolaj/.local/lib/python3.9/site-packages (from httpx>=0.24.1->gradio) (1.3.1)\n",
      "Requirement already satisfied: h11<0.15,>=0.13 in /home/mikolaj/.local/lib/python3.9/site-packages (from httpcore==1.*->httpx>=0.24.1->gradio) (0.14.0)\n",
      "Requirement already satisfied: filelock in /home/mikolaj/.local/lib/python3.9/site-packages (from huggingface-hub>=0.19.3->gradio) (3.14.0)\n",
      "Requirement already satisfied: requests in /home/mikolaj/.local/lib/python3.9/site-packages (from huggingface-hub>=0.19.3->gradio) (2.32.2)\n",
      "Requirement already satisfied: tqdm>=4.42.1 in /home/mikolaj/.local/lib/python3.9/site-packages (from huggingface-hub>=0.19.3->gradio) (4.66.4)\n",
      "Requirement already satisfied: zipp>=3.1.0 in /home/mikolaj/.local/lib/python3.9/site-packages (from importlib-resources<7.0,>=1.3->gradio) (3.18.2)\n",
      "Requirement already satisfied: contourpy>=1.0.1 in /home/mikolaj/.local/lib/python3.9/site-packages (from matplotlib~=3.0->gradio) (1.2.1)\n",
      "Requirement already satisfied: cycler>=0.10 in /home/mikolaj/.local/lib/python3.9/site-packages (from matplotlib~=3.0->gradio) (0.12.1)\n",
      "Requirement already satisfied: fonttools>=4.22.0 in /home/mikolaj/.local/lib/python3.9/site-packages (from matplotlib~=3.0->gradio) (4.52.1)\n",
      "Requirement already satisfied: kiwisolver>=1.3.1 in /home/mikolaj/.local/lib/python3.9/site-packages (from matplotlib~=3.0->gradio) (1.4.5)\n",
      "Requirement already satisfied: pyparsing>=2.3.1 in /usr/lib/python3/dist-packages (from matplotlib~=3.0->gradio) (2.4.7)\n",
      "Requirement already satisfied: python-dateutil>=2.7 in /home/mikolaj/.local/lib/python3.9/site-packages (from matplotlib~=3.0->gradio) (2.9.0.post0)\n"
     ]
    },
    {
     "name": "stdout",
     "output_type": "stream",
     "text": [
      "Requirement already satisfied: pytz>=2020.1 in /usr/lib/python3/dist-packages (from pandas<3.0,>=1.0->gradio) (2022.1)\n",
      "Requirement already satisfied: tzdata>=2022.7 in /home/mikolaj/.local/lib/python3.9/site-packages (from pandas<3.0,>=1.0->gradio) (2024.1)\n",
      "Requirement already satisfied: annotated-types>=0.4.0 in /home/mikolaj/.local/lib/python3.9/site-packages (from pydantic>=2.0->gradio) (0.7.0)\n",
      "Requirement already satisfied: pydantic-core==2.18.2 in /home/mikolaj/.local/lib/python3.9/site-packages (from pydantic>=2.0->gradio) (2.18.2)\n",
      "Requirement already satisfied: click>=8.0.0 in /usr/lib/python3/dist-packages (from typer<1.0,>=0.12->gradio) (8.0.3)\n",
      "Requirement already satisfied: shellingham>=1.3.0 in /home/mikolaj/.local/lib/python3.9/site-packages (from typer<1.0,>=0.12->gradio) (1.5.4)\n",
      "Requirement already satisfied: rich>=10.11.0 in /home/mikolaj/.local/lib/python3.9/site-packages (from typer<1.0,>=0.12->gradio) (13.7.1)\n",
      "Requirement already satisfied: starlette<0.38.0,>=0.37.2 in /home/mikolaj/.local/lib/python3.9/site-packages (from fastapi->gradio) (0.37.2)\n",
      "Requirement already satisfied: fastapi-cli>=0.0.2 in /home/mikolaj/.local/lib/python3.9/site-packages (from fastapi->gradio) (0.0.4)\n",
      "Requirement already satisfied: ujson!=4.0.2,!=4.1.0,!=4.2.0,!=4.3.0,!=5.0.0,!=5.1.0,>=4.0.1 in /home/mikolaj/.local/lib/python3.9/site-packages (from fastapi->gradio) (5.10.0)\n",
      "Requirement already satisfied: email_validator>=2.0.0 in /home/mikolaj/.local/lib/python3.9/site-packages (from fastapi->gradio) (2.1.1)\n",
      "Requirement already satisfied: dnspython>=2.0.0 in /home/mikolaj/.local/lib/python3.9/site-packages (from email_validator>=2.0.0->fastapi->gradio) (2.6.1)\n",
      "Requirement already satisfied: attrs>=22.2.0 in /home/mikolaj/.local/lib/python3.9/site-packages (from jsonschema>=3.0->altair<6.0,>=4.2.0->gradio) (23.2.0)\n",
      "Requirement already satisfied: jsonschema-specifications>=2023.03.6 in /home/mikolaj/.local/lib/python3.9/site-packages (from jsonschema>=3.0->altair<6.0,>=4.2.0->gradio) (2023.12.1)\n",
      "Requirement already satisfied: referencing>=0.28.4 in /home/mikolaj/.local/lib/python3.9/site-packages (from jsonschema>=3.0->altair<6.0,>=4.2.0->gradio) (0.35.1)\n",
      "Requirement already satisfied: rpds-py>=0.7.1 in /home/mikolaj/.local/lib/python3.9/site-packages (from jsonschema>=3.0->altair<6.0,>=4.2.0->gradio) (0.18.1)\n",
      "Requirement already satisfied: six>=1.5 in /usr/lib/python3/dist-packages (from python-dateutil>=2.7->matplotlib~=3.0->gradio) (1.16.0)\n",
      "Requirement already satisfied: markdown-it-py>=2.2.0 in /home/mikolaj/.local/lib/python3.9/site-packages (from rich>=10.11.0->typer<1.0,>=0.12->gradio) (3.0.0)\n",
      "Requirement already satisfied: pygments<3.0.0,>=2.13.0 in /home/mikolaj/.local/lib/python3.9/site-packages (from rich>=10.11.0->typer<1.0,>=0.12->gradio) (2.18.0)\n",
      "Requirement already satisfied: exceptiongroup>=1.0.2 in /home/mikolaj/.local/lib/python3.9/site-packages (from anyio->httpx>=0.24.1->gradio) (1.2.1)\n",
      "Requirement already satisfied: httptools>=0.5.0 in /home/mikolaj/.local/lib/python3.9/site-packages (from uvicorn[standard]>=0.12.0->fastapi->gradio) (0.6.1)\n",
      "Requirement already satisfied: python-dotenv>=0.13 in /home/mikolaj/.local/lib/python3.9/site-packages (from uvicorn[standard]>=0.12.0->fastapi->gradio) (1.0.1)\n",
      "Requirement already satisfied: uvloop!=0.15.0,!=0.15.1,>=0.14.0 in /home/mikolaj/.local/lib/python3.9/site-packages (from uvicorn[standard]>=0.12.0->fastapi->gradio) (0.19.0)\n",
      "Requirement already satisfied: watchfiles>=0.13 in /home/mikolaj/.local/lib/python3.9/site-packages (from uvicorn[standard]>=0.12.0->fastapi->gradio) (0.21.0)\n",
      "Requirement already satisfied: charset-normalizer<4,>=2 in /home/mikolaj/.local/lib/python3.9/site-packages (from requests->huggingface-hub>=0.19.3->gradio) (3.3.2)\n",
      "Requirement already satisfied: mdurl~=0.1 in /home/mikolaj/.local/lib/python3.9/site-packages (from markdown-it-py>=2.2.0->rich>=10.11.0->typer<1.0,>=0.12->gradio) (0.1.2)\n",
      "Defaulting to user installation because normal site-packages is not writeable\n",
      "Requirement already satisfied: gradio_client in /home/mikolaj/.local/lib/python3.9/site-packages (0.16.4)\n",
      "Requirement already satisfied: fsspec in /home/mikolaj/.local/lib/python3.9/site-packages (from gradio_client) (2024.5.0)\n",
      "Requirement already satisfied: httpx>=0.24.1 in /home/mikolaj/.local/lib/python3.9/site-packages (from gradio_client) (0.27.0)\n",
      "Requirement already satisfied: huggingface-hub>=0.19.3 in /home/mikolaj/.local/lib/python3.9/site-packages (from gradio_client) (0.23.1)\n",
      "Requirement already satisfied: packaging in /home/mikolaj/.local/lib/python3.9/site-packages (from gradio_client) (24.0)\n",
      "Requirement already satisfied: typing-extensions~=4.0 in /home/mikolaj/.local/lib/python3.9/site-packages (from gradio_client) (4.12.0)\n",
      "Requirement already satisfied: websockets<12.0,>=10.0 in /home/mikolaj/.local/lib/python3.9/site-packages (from gradio_client) (11.0.3)\n",
      "Requirement already satisfied: anyio in /home/mikolaj/.local/lib/python3.9/site-packages (from httpx>=0.24.1->gradio_client) (4.3.0)\n",
      "Requirement already satisfied: certifi in /usr/lib/python3/dist-packages (from httpx>=0.24.1->gradio_client) (2020.6.20)\n",
      "Requirement already satisfied: httpcore==1.* in /home/mikolaj/.local/lib/python3.9/site-packages (from httpx>=0.24.1->gradio_client) (1.0.5)\n",
      "Requirement already satisfied: idna in /usr/lib/python3/dist-packages (from httpx>=0.24.1->gradio_client) (3.3)\n",
      "Requirement already satisfied: sniffio in /home/mikolaj/.local/lib/python3.9/site-packages (from httpx>=0.24.1->gradio_client) (1.3.1)\n",
      "Requirement already satisfied: h11<0.15,>=0.13 in /home/mikolaj/.local/lib/python3.9/site-packages (from httpcore==1.*->httpx>=0.24.1->gradio_client) (0.14.0)\n",
      "Requirement already satisfied: filelock in /home/mikolaj/.local/lib/python3.9/site-packages (from huggingface-hub>=0.19.3->gradio_client) (3.14.0)\n",
      "Requirement already satisfied: pyyaml>=5.1 in /usr/lib/python3/dist-packages (from huggingface-hub>=0.19.3->gradio_client) (5.4.1)\n",
      "Requirement already satisfied: requests in /home/mikolaj/.local/lib/python3.9/site-packages (from huggingface-hub>=0.19.3->gradio_client) (2.32.2)\n",
      "Requirement already satisfied: tqdm>=4.42.1 in /home/mikolaj/.local/lib/python3.9/site-packages (from huggingface-hub>=0.19.3->gradio_client) (4.66.4)\n",
      "Requirement already satisfied: exceptiongroup>=1.0.2 in /home/mikolaj/.local/lib/python3.9/site-packages (from anyio->httpx>=0.24.1->gradio_client) (1.2.1)\n",
      "Requirement already satisfied: charset-normalizer<4,>=2 in /home/mikolaj/.local/lib/python3.9/site-packages (from requests->huggingface-hub>=0.19.3->gradio_client) (3.3.2)\n",
      "Requirement already satisfied: urllib3<3,>=1.21.1 in /home/mikolaj/.local/lib/python3.9/site-packages (from requests->huggingface-hub>=0.19.3->gradio_client) (2.2.1)\n"
     ]
    }
   ],
   "source": [
    "!pip3.9 install transformers\n",
    "!pip3.9 install gradio\n",
    "!pip3.9 install gradio_client"
   ]
  },
  {
   "cell_type": "code",
   "execution_count": 2,
   "id": "530d33f1",
   "metadata": {},
   "outputs": [],
   "source": [
    "from transformers.utils import logging\n",
    "logging.set_verbosity_error()\n",
    "\n",
    "import warnings\n",
    "warnings.filterwarnings(\"ignore\", \n",
    "                        message=\"Using the model-agnostic default `max_length`\")"
   ]
  },
  {
   "cell_type": "code",
   "execution_count": 3,
   "id": "76cb15ba",
   "metadata": {},
   "outputs": [
    {
     "name": "stderr",
     "output_type": "stream",
     "text": [
      "2024-05-25 23:33:18.475281: I tensorflow/stream_executor/platform/default/dso_loader.cc:49] Successfully opened dynamic library libcudart.so.10.1\n"
     ]
    }
   ],
   "source": [
    "import os\n",
    "import gradio as gr\n",
    "from transformers import pipeline"
   ]
  },
  {
   "cell_type": "code",
   "execution_count": 4,
   "id": "715c3e1a",
   "metadata": {},
   "outputs": [],
   "source": [
    "pipe = pipeline(\"image-to-text\",\n",
    "                model=\"Salesforce/blip-image-captioning-base\")"
   ]
  },
  {
   "cell_type": "code",
   "execution_count": 5,
   "id": "b03b880c",
   "metadata": {},
   "outputs": [],
   "source": [
    "def launch(input):\n",
    "    out = pipe(input)\n",
    "    return out[0]['generated_text']"
   ]
  },
  {
   "cell_type": "code",
   "execution_count": 6,
   "id": "cbd5ecaa",
   "metadata": {},
   "outputs": [
    {
     "name": "stdout",
     "output_type": "stream",
     "text": [
      "IMPORTANT: You are using gradio version 3.34.0, however version 4.29.0 is available, please upgrade.\n",
      "--------\n"
     ]
    }
   ],
   "source": [
    "iface = gr.Interface(launch,\n",
    "                     inputs=gr.Image(type='pil'),\n",
    "                     outputs=\"text\")"
   ]
  },
  {
   "cell_type": "code",
   "execution_count": 7,
   "id": "9738c5ae",
   "metadata": {},
   "outputs": [
    {
     "name": "stdout",
     "output_type": "stream",
     "text": [
      "Running on local URL:  http://127.0.0.1:7860\n",
      "Running on public URL: https://cd88e5da051e5ce181.gradio.live\n",
      "\n",
      "This share link expires in 72 hours. For free permanent hosting and GPU upgrades, run `gradio deploy` from Terminal to deploy to Spaces (https://huggingface.co/spaces)\n"
     ]
    },
    {
     "data": {
      "text/html": [
       "<div><iframe src=\"https://cd88e5da051e5ce181.gradio.live\" width=\"100%\" height=\"500\" allow=\"autoplay; camera; microphone; clipboard-read; clipboard-write;\" frameborder=\"0\" allowfullscreen></iframe></div>"
      ],
      "text/plain": [
       "<IPython.core.display.HTML object>"
      ]
     },
     "metadata": {},
     "output_type": "display_data"
    },
    {
     "data": {
      "text/plain": []
     },
     "execution_count": 7,
     "metadata": {},
     "output_type": "execute_result"
    }
   ],
   "source": [
    "iface.launch(share=True)"
   ]
  },
  {
   "cell_type": "code",
   "execution_count": 8,
   "id": "23d893eb",
   "metadata": {},
   "outputs": [
    {
     "name": "stdout",
     "output_type": "stream",
     "text": [
      "Closing server running on port: 7860\n"
     ]
    }
   ],
   "source": [
    "iface.close()"
   ]
  },
  {
   "cell_type": "code",
   "execution_count": 9,
   "id": "b2beb1e7",
   "metadata": {},
   "outputs": [
    {
     "name": "stdout",
     "output_type": "stream",
     "text": [
      "Defaulting to user installation because normal site-packages is not writeable\n",
      "Requirement already satisfied: gradio_client in /home/mikolaj/.local/lib/python3.9/site-packages (0.16.4)\n",
      "Requirement already satisfied: fsspec in /home/mikolaj/.local/lib/python3.9/site-packages (from gradio_client) (2024.5.0)\n",
      "Requirement already satisfied: httpx>=0.24.1 in /home/mikolaj/.local/lib/python3.9/site-packages (from gradio_client) (0.27.0)\n",
      "Requirement already satisfied: huggingface-hub>=0.19.3 in /home/mikolaj/.local/lib/python3.9/site-packages (from gradio_client) (0.23.1)\n",
      "Requirement already satisfied: packaging in /home/mikolaj/.local/lib/python3.9/site-packages (from gradio_client) (24.0)\n",
      "Requirement already satisfied: typing-extensions~=4.0 in /home/mikolaj/.local/lib/python3.9/site-packages (from gradio_client) (4.12.0)\n",
      "Requirement already satisfied: websockets<12.0,>=10.0 in /home/mikolaj/.local/lib/python3.9/site-packages (from gradio_client) (11.0.3)\n",
      "Requirement already satisfied: anyio in /home/mikolaj/.local/lib/python3.9/site-packages (from httpx>=0.24.1->gradio_client) (4.3.0)\n",
      "Requirement already satisfied: certifi in /usr/lib/python3/dist-packages (from httpx>=0.24.1->gradio_client) (2020.6.20)\n",
      "Requirement already satisfied: httpcore==1.* in /home/mikolaj/.local/lib/python3.9/site-packages (from httpx>=0.24.1->gradio_client) (1.0.5)\n",
      "Requirement already satisfied: idna in /usr/lib/python3/dist-packages (from httpx>=0.24.1->gradio_client) (3.3)\n",
      "Requirement already satisfied: sniffio in /home/mikolaj/.local/lib/python3.9/site-packages (from httpx>=0.24.1->gradio_client) (1.3.1)\n",
      "Requirement already satisfied: h11<0.15,>=0.13 in /home/mikolaj/.local/lib/python3.9/site-packages (from httpcore==1.*->httpx>=0.24.1->gradio_client) (0.14.0)\n",
      "Requirement already satisfied: filelock in /home/mikolaj/.local/lib/python3.9/site-packages (from huggingface-hub>=0.19.3->gradio_client) (3.14.0)\n",
      "Requirement already satisfied: pyyaml>=5.1 in /usr/lib/python3/dist-packages (from huggingface-hub>=0.19.3->gradio_client) (5.4.1)\n",
      "Requirement already satisfied: requests in /home/mikolaj/.local/lib/python3.9/site-packages (from huggingface-hub>=0.19.3->gradio_client) (2.32.2)\n",
      "Requirement already satisfied: tqdm>=4.42.1 in /home/mikolaj/.local/lib/python3.9/site-packages (from huggingface-hub>=0.19.3->gradio_client) (4.66.4)\n",
      "Requirement already satisfied: exceptiongroup>=1.0.2 in /home/mikolaj/.local/lib/python3.9/site-packages (from anyio->httpx>=0.24.1->gradio_client) (1.2.1)\n",
      "Requirement already satisfied: charset-normalizer<4,>=2 in /home/mikolaj/.local/lib/python3.9/site-packages (from requests->huggingface-hub>=0.19.3->gradio_client) (3.3.2)\n",
      "Requirement already satisfied: urllib3<3,>=1.21.1 in /home/mikolaj/.local/lib/python3.9/site-packages (from requests->huggingface-hub>=0.19.3->gradio_client) (2.2.1)\n"
     ]
    }
   ],
   "source": [
    "!pip3.9 install --upgrade gradio_client\n"
   ]
  },
  {
   "cell_type": "code",
   "execution_count": 10,
   "id": "116abba2",
   "metadata": {},
   "outputs": [
    {
     "ename": "ImportError",
     "evalue": "cannot import name 'file' from 'gradio_client' (/home/mikolaj/anaconda3/envs/tensorflow/lib/python3.7/site-packages/gradio_client/__init__.py)",
     "output_type": "error",
     "traceback": [
      "\u001b[0;31m---------------------------------------------------------------------------\u001b[0m",
      "\u001b[0;31mImportError\u001b[0m                               Traceback (most recent call last)",
      "\u001b[0;32m/tmp/ipykernel_12375/3343110014.py\u001b[0m in \u001b[0;36m<module>\u001b[0;34m\u001b[0m\n\u001b[0;32m----> 1\u001b[0;31m \u001b[0;32mfrom\u001b[0m \u001b[0mgradio_client\u001b[0m \u001b[0;32mimport\u001b[0m \u001b[0mClient\u001b[0m\u001b[0;34m,\u001b[0m \u001b[0mfile\u001b[0m\u001b[0;34m\u001b[0m\u001b[0;34m\u001b[0m\u001b[0m\n\u001b[0m\u001b[1;32m      2\u001b[0m \u001b[0;34m\u001b[0m\u001b[0m\n\u001b[1;32m      3\u001b[0m \u001b[0mclient\u001b[0m \u001b[0;34m=\u001b[0m \u001b[0mClient\u001b[0m\u001b[0;34m(\u001b[0m\u001b[0;34m\"Mkoek213/image-captioning-api-test\"\u001b[0m\u001b[0;34m)\u001b[0m\u001b[0;34m\u001b[0m\u001b[0;34m\u001b[0m\u001b[0m\n\u001b[1;32m      4\u001b[0m result = client.predict(\n\u001b[1;32m      5\u001b[0m                 \u001b[0minput\u001b[0m\u001b[0;34m=\u001b[0m\u001b[0mfile\u001b[0m\u001b[0;34m(\u001b[0m\u001b[0;34m'https://raw.githubusercontent.com/gradio-app/gradio/main/test/test_files/bus.png'\u001b[0m\u001b[0;34m)\u001b[0m\u001b[0;34m,\u001b[0m\u001b[0;34m\u001b[0m\u001b[0;34m\u001b[0m\u001b[0m\n",
      "\u001b[0;31mImportError\u001b[0m: cannot import name 'file' from 'gradio_client' (/home/mikolaj/anaconda3/envs/tensorflow/lib/python3.7/site-packages/gradio_client/__init__.py)"
     ]
    }
   ],
   "source": [
    "from gradio_client import Client, file\n",
    "\n",
    "client = Client(\"Mkoek213/image-captioning-api-test\")\n",
    "result = client.predict(\n",
    "\t\tinput=file('https://raw.githubusercontent.com/gradio-app/gradio/main/test/test_files/bus.png'),\n",
    "\t\tapi_name=\"/predict\"\n",
    ")\n",
    "print(result)"
   ]
  },
  {
   "cell_type": "code",
   "execution_count": 11,
   "id": "6416f275",
   "metadata": {},
   "outputs": [
    {
     "ename": "NameError",
     "evalue": "name 'client' is not defined",
     "output_type": "error",
     "traceback": [
      "\u001b[0;31m---------------------------------------------------------------------------\u001b[0m",
      "\u001b[0;31mNameError\u001b[0m                                 Traceback (most recent call last)",
      "\u001b[0;32m/tmp/ipykernel_12375/3199123459.py\u001b[0m in \u001b[0;36m<module>\u001b[0;34m\u001b[0m\n\u001b[0;32m----> 1\u001b[0;31m \u001b[0mclient\u001b[0m\u001b[0;34m.\u001b[0m\u001b[0mview_api\u001b[0m\u001b[0;34m(\u001b[0m\u001b[0;34m)\u001b[0m\u001b[0;34m\u001b[0m\u001b[0;34m\u001b[0m\u001b[0m\n\u001b[0m",
      "\u001b[0;31mNameError\u001b[0m: name 'client' is not defined"
     ]
    }
   ],
   "source": [
    "client.view_api()"
   ]
  },
  {
   "cell_type": "code",
   "execution_count": null,
   "id": "c52d29f7",
   "metadata": {},
   "outputs": [],
   "source": []
  }
 ],
 "metadata": {
  "kernelspec": {
   "display_name": "Python 3.7 (tensorflow)",
   "language": "python",
   "name": "tensorflow"
  },
  "language_info": {
   "codemirror_mode": {
    "name": "ipython",
    "version": 3
   },
   "file_extension": ".py",
   "mimetype": "text/x-python",
   "name": "python",
   "nbconvert_exporter": "python",
   "pygments_lexer": "ipython3",
   "version": "3.7.16"
  }
 },
 "nbformat": 4,
 "nbformat_minor": 5
}
